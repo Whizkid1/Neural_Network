{
  "cells": [
    {
      "cell_type": "markdown",
      "source": [
        "# 어제 복습"
      ],
      "metadata": {
        "id": "uRU50O576HnZ"
      }
    },
    {
      "cell_type": "code",
      "execution_count": null,
      "metadata": {
        "id": "oU7Hbf4fd_sw"
      },
      "outputs": [],
      "source": [
        "import numpy as np\n",
        "import matplotlib.pyplot as plt"
      ]
    },
    {
      "cell_type": "code",
      "execution_count": null,
      "metadata": {
        "colab": {
          "base_uri": "https://localhost:8080/",
          "height": 269
        },
        "id": "Dbm-TtjSe6q-",
        "outputId": "842cc04f-a0b6-4e1f-d770-30384d52aa51"
      },
      "outputs": [
        {
          "output_type": "display_data",
          "data": {
            "image/png": "[encoded data removed]",
            "text/plain": [
              "<Figure size 432x288 with 1 Axes>"
            ]
          },
          "metadata": {
            "needs_background": "light"
          }
        }
      ],
      "source": [
        "x = np.arange(-1, 1, 0.01)\n",
        "np.random.shuffle(x)\n",
        "y = np.sin(10*x) + 0.5 * np.cos(5*x)\n",
        "\n",
        "plt.scatter(x,y)\n",
        "plt.show()"
      ]
    },
    {
      "cell_type": "code",
      "execution_count": null,
      "metadata": {
        "id": "a7uUpRnYg38Y"
      },
      "outputs": [],
      "source": [
        "index = int(len(x)*0.8)\n",
        "\n",
        "train_x, test_x = x[:index], x[index:]\n",
        "train_y, test_y = y[:index], y[index:]"
      ]
    },
    {
      "cell_type": "code",
      "execution_count": null,
      "metadata": {
        "id": "a-Bq2iebfLZW"
      },
      "outputs": [],
      "source": [
        "import tensorflow as tf\n",
        "from tensorflow import keras\n",
        "\n",
        "from tensorflow.keras import optimizers\n",
        "from tensorflow.keras.layers import Dense, Input"
      ]
    },
    {
      "cell_type": "code",
      "execution_count": null,
      "metadata": {
        "id": "YsIt34uJgLCF"
      },
      "outputs": [],
      "source": [
        "model = keras.Sequential()\n",
        "model.add(Input(1))\n",
        "model.add(Dense(10, activation=\"tanh\"))\n",
        "model.add(Dense(10, activation=\"tanh\"))\n",
        "model.add(Dense(1))\n",
        "\n",
        "model.compile(loss=\"mse\", optimizer=\"Adam\", metrics=[\"mae\"])"
      ]
    },
    {
      "cell_type": "code",
      "source": [
        "hist = model.fit(train_x, train_y, epochs=1000, validation_split=0.1, batch_size=128, verbose=0)"
      ],
      "metadata": {
        "id": "TtH329INjpHR"
      },
      "execution_count": null,
      "outputs": []
    },
    {
      "cell_type": "code",
      "execution_count": null,
      "metadata": {
        "id": "SrTK_WahhuYb"
      },
      "outputs": [],
      "source": [
        "plt.plot(hist.history['loss'])\n",
        "plt.plot(hist.history['val_loss'])\n",
        "plt.show()"
      ]
    },
    {
      "cell_type": "code",
      "execution_count": null,
      "metadata": {
        "id": "Kj1ARdcUjCRg"
      },
      "outputs": [],
      "source": [
        "plt.plot(hist.history['mae'])\n",
        "plt.plot(hist.history['val_mae'])\n",
        "plt.show()"
      ]
    },
    {
      "cell_type": "code",
      "execution_count": null,
      "metadata": {
        "id": "A1yl2_65isXH"
      },
      "outputs": [],
      "source": [
        "y_ = model.predict(test_x)\n",
        "plt.scatter(test_x, test_y)\n",
        "plt.scatter(test_x, y_)\n",
        "plt.show()"
      ]
    },
    {
      "cell_type": "markdown",
      "source": [
        "# 붓꽃 데이터 분류"
      ],
      "metadata": {
        "id": "ERiedsUtwyIT"
      }
    },
    {
      "cell_type": "code",
      "source": [
        "import numpy as np\n",
        "import pandas as pd\n",
        "import matplotlib.pyplot as plt\n",
        "\n",
        "import tensorflow as tf\n",
        "\n",
        "from tensorflow import keras\n",
        "from tensorflow.keras import optimizers\n",
        "from tensorflow.keras.layers import Dense, Input"
      ],
      "metadata": {
        "id": "KL3oIgdew3As"
      },
      "execution_count": null,
      "outputs": []
    },
    {
      "cell_type": "code",
      "source": [
        "!wget https://raw.githubusercontent.com/dhrim/MDC_2021/master/material/deep_learning/iris.csv\n"
      ],
      "metadata": {
        "colab": {
          "base_uri": "https://localhost:8080/"
        },
        "id": "01bXExQcw5x2",
        "outputId": "8e77132f-ede7-4f2a-e5ef-36f2f5109455"
      },
      "execution_count": null,
      "outputs": [
        {
          "output_type": "stream",
          "name": "stdout",
          "text": [
            "--2021-12-22 01:31:27--  https://raw.githubusercontent.com/dhrim/MDC_2021/master/material/deep_learning/iris.csv\n",
            "Resolving raw.githubusercontent.com (raw.githubusercontent.com)... 185.199.108.133, 185.199.109.133, 185.199.110.133, ...\n",
            "Connecting to raw.githubusercontent.com (raw.githubusercontent.com)|185.199.108.133|:443... connected.\n",
            "HTTP request sent, awaiting response... 200 OK\n",
            "Length: 2720 (2.7K) [text/plain]\n",
            "Saving to: ‘iris.csv’\n",
            "\n",
            "\riris.csv              0%[                    ]       0  --.-KB/s               \riris.csv            100%[===================>]   2.66K  --.-KB/s    in 0s      \n",
            "\n",
            "2021-12-22 01:31:27 (50.1 MB/s) - ‘iris.csv’ saved [2720/2720]\n",
            "\n"
          ]
        }
      ]
    },
    {
      "cell_type": "code",
      "source": [
        "!ls -al\n",
        "!head iris.csv\n",
        "# ! 이 표시는 리눅스에서 사용하는 기능을 사용하기 위한 "
      ],
      "metadata": {
        "colab": {
          "base_uri": "https://localhost:8080/"
        },
        "id": "o0ciMBftw8PL",
        "outputId": "93597fa2-ce87-4898-d0b7-e50307050556"
      },
      "execution_count": null,
      "outputs": [
        {
          "output_type": "stream",
          "name": "stdout",
          "text": [
            "total 20\n",
            "drwxr-xr-x 1 root root 4096 Dec 22 01:31 .\n",
            "drwxr-xr-x 1 root root 4096 Dec 22 01:25 ..\n",
            "drwxr-xr-x 4 root root 4096 Dec  3 14:33 .config\n",
            "-rw-r--r-- 1 root root 2720 Dec 22 01:31 iris.csv\n",
            "drwxr-xr-x 1 root root 4096 Dec  3 14:33 sample_data\n",
            "septal_length,septal_width,petal_length,petal_width,setosa,versicolor,virginica\n",
            "6.4,2.8,5.6,2.2,0,0,1\n",
            "5.0,2.3,3.3,1.0,0,1,0\n",
            "4.9,2.5,4.5,1.7,0,0,1\n",
            "4.9,3.1,1.5,0.1,1,0,0\n",
            "5.7,3.8,1.7,0.3,1,0,0\n",
            "4.4,3.2,1.3,0.2,1,0,0\n",
            "5.4,3.4,1.5,0.4,1,0,0\n",
            "6.9,3.1,5.1,2.3,0,0,1\n",
            "6.7,3.1,4.4,1.4,0,1,0\n"
          ]
        }
      ]
    },
    {
      "cell_type": "code",
      "source": [
        "iris = pd.read_csv(\"iris.csv\")\n",
        "iris.head()"
      ],
      "metadata": {
        "colab": {
          "base_uri": "https://localhost:8080/",
          "height": 250
        },
        "id": "Fn25_JDUw-hC",
        "outputId": "b31e2274-7eb0-4968-ab24-8b5801113610"
      },
      "execution_count": null,
      "outputs": [
        {
          "output_type": "execute_result",
          "data": {
            "text/html": [
              "\n",
              "  <div id=\"df-59d1b5d5-8662-4e9e-bd66-b1d54c67ba71\">\n",
              "    <div class=\"colab-df-container\">\n",
              "      <div>\n",
              "<style scoped>\n",
              "    .dataframe tbody tr th:only-of-type {\n",
              "        vertical-align: middle;\n",
              "    }\n",
              "\n",
              "    .dataframe tbody tr th {\n",
              "        vertical-align: top;\n",
              "    }\n",
              "\n",
              "    .dataframe thead th {\n",
              "        text-align: right;\n",
              "    }\n",
              "</style>\n",
              "<table border=\"1\" class=\"dataframe\">\n",
              "  <thead>\n",
              "    <tr style=\"text-align: right;\">\n",
              "      <th></th>\n",
              "      <th>septal_length</th>\n",
              "      <th>septal_width</th>\n",
              "      <th>petal_length</th>\n",
              "      <th>petal_width</th>\n",
              "      <th>setosa</th>\n",
              "      <th>versicolor</th>\n",
              "      <th>virginica</th>\n",
              "    </tr>\n",
              "  </thead>\n",
              "  <tbody>\n",
              "    <tr>\n",
              "      <th>0</th>\n",
              "      <td>6.4</td>\n",
              "      <td>2.8</td>\n",
              "      <td>5.6</td>\n",
              "      <td>2.2</td>\n",
              "      <td>0</td>\n",
              "      <td>0</td>\n",
              "      <td>1</td>\n",
              "    </tr>\n",
              "    <tr>\n",
              "      <th>1</th>\n",
              "      <td>5.0</td>\n",
              "      <td>2.3</td>\n",
              "      <td>3.3</td>\n",
              "      <td>1.0</td>\n",
              "      <td>0</td>\n",
              "      <td>1</td>\n",
              "      <td>0</td>\n",
              "    </tr>\n",
              "    <tr>\n",
              "      <th>2</th>\n",
              "      <td>4.9</td>\n",
              "      <td>2.5</td>\n",
              "      <td>4.5</td>\n",
              "      <td>1.7</td>\n",
              "      <td>0</td>\n",
              "      <td>0</td>\n",
              "      <td>1</td>\n",
              "    </tr>\n",
              "    <tr>\n",
              "      <th>3</th>\n",
              "      <td>4.9</td>\n",
              "      <td>3.1</td>\n",
              "      <td>1.5</td>\n",
              "      <td>0.1</td>\n",
              "      <td>1</td>\n",
              "      <td>0</td>\n",
              "      <td>0</td>\n",
              "    </tr>\n",
              "    <tr>\n",
              "      <th>4</th>\n",
              "      <td>5.7</td>\n",
              "      <td>3.8</td>\n",
              "      <td>1.7</td>\n",
              "      <td>0.3</td>\n",
              "      <td>1</td>\n",
              "      <td>0</td>\n",
              "      <td>0</td>\n",
              "    </tr>\n",
              "  </tbody>\n",
              "</table>\n",
              "</div>\n",
              "      <button class=\"colab-df-convert\" onclick=\"convertToInteractive('df-59d1b5d5-8662-4e9e-bd66-b1d54c67ba71')\"\n",
              "              title=\"Convert this dataframe to an interactive table.\"\n",
              "              style=\"display:none;\">\n",
              "        \n",
              "  <svg xmlns=\"http://www.w3.org/2000/svg\" height=\"24px\"viewBox=\"0 0 24 24\"\n",
              "       width=\"24px\">\n",
              "    <path d=\"M0 0h24v24H0V0z\" fill=\"none\"/>\n",
              "    <path d=\"M18.56 5.44l.94 2.06.94-2.06 2.06-.94-2.06-.94-.94-2.06-.94 2.06-2.06.94zm-11 1L8.5 8.5l.94-2.06 2.06-.94-2.06-.94L8.5 2.5l-.94 2.06-2.06.94zm10 10l.94 2.06.94-2.06 2.06-.94-2.06-.94-.94-2.06-.94 2.06-2.06.94z\"/><path d=\"M17.41 7.96l-1.37-1.37c-.4-.4-.92-.59-1.43-.59-.52 0-1.04.2-1.43.59L10.3 9.45l-7.72 7.72c-.78.78-.78 2.05 0 2.83L4 21.41c.39.39.9.59 1.41.59.51 0 1.02-.2 1.41-.59l7.78-7.78 2.81-2.81c.8-.78.8-2.07 0-2.86zM5.41 20L4 18.59l7.72-7.72 1.47 1.35L5.41 20z\"/>\n",
              "  </svg>\n",
              "      </button>\n",
              "      \n",
              "  <style>\n",
              "    .colab-df-container {\n",
              "      display:flex;\n",
              "      flex-wrap:wrap;\n",
              "      gap: 12px;\n",
              "    }\n",
              "\n",
              "    .colab-df-convert {\n",
              "      background-color: #E8F0FE;\n",
              "      border: none;\n",
              "      border-radius: 50%;\n",
              "      cursor: pointer;\n",
              "      display: none;\n",
              "      fill: #1967D2;\n",
              "      height: 32px;\n",
              "      padding: 0 0 0 0;\n",
              "      width: 32px;\n",
              "    }\n",
              "\n",
              "    .colab-df-convert:hover {\n",
              "      background-color: #E2EBFA;\n",
              "      box-shadow: 0px 1px 2px rgba(60, 64, 67, 0.3), 0px 1px 3px 1px rgba(60, 64, 67, 0.15);\n",
              "      fill: #174EA6;\n",
              "    }\n",
              "\n",
              "    [theme=dark] .colab-df-convert {\n",
              "      background-color: #3B4455;\n",
              "      fill: #D2E3FC;\n",
              "    }\n",
              "\n",
              "    [theme=dark] .colab-df-convert:hover {\n",
              "      background-color: #434B5C;\n",
              "      box-shadow: 0px 1px 3px 1px rgba(0, 0, 0, 0.15);\n",
              "      filter: drop-shadow(0px 1px 2px rgba(0, 0, 0, 0.3));\n",
              "      fill: #FFFFFF;\n",
              "    }\n",
              "  </style>\n",
              "\n",
              "      <script>\n",
              "        const buttonEl =\n",
              "          document.querySelector('#df-59d1b5d5-8662-4e9e-bd66-b1d54c67ba71 button.colab-df-convert');\n",
              "        buttonEl.style.display =\n",
              "          google.colab.kernel.accessAllowed ? 'block' : 'none';\n",
              "\n",
              "        async function convertToInteractive(key) {\n",
              "          const element = document.querySelector('#df-59d1b5d5-8662-4e9e-bd66-b1d54c67ba71');\n",
              "          const dataTable =\n",
              "            await google.colab.kernel.invokeFunction('convertToInteractive',\n",
              "                                                     [key], {});\n",
              "          if (!dataTable) return;\n",
              "\n",
              "          const docLinkHtml = 'Like what you see? Visit the ' +\n",
              "            '<a target=\"_blank\" href=https://colab.research.google.com/notebooks/data_table.ipynb>data table notebook</a>'\n",
              "            + ' to learn more about interactive tables.';\n",
              "          element.innerHTML = '';\n",
              "          dataTable['output_type'] = 'display_data';\n",
              "          await google.colab.output.renderOutput(dataTable, element);\n",
              "          const docLink = document.createElement('div');\n",
              "          docLink.innerHTML = docLinkHtml;\n",
              "          element.appendChild(docLink);\n",
              "        }\n",
              "      </script>\n",
              "    </div>\n",
              "  </div>\n",
              "  "
            ],
            "text/plain": [
              "   septal_length  septal_width  petal_length  ...  setosa  versicolor  virginica\n",
              "0            6.4           2.8           5.6  ...       0           0          1\n",
              "1            5.0           2.3           3.3  ...       0           1          0\n",
              "2            4.9           2.5           4.5  ...       0           0          1\n",
              "3            4.9           3.1           1.5  ...       1           0          0\n",
              "4            5.7           3.8           1.7  ...       1           0          0\n",
              "\n",
              "[5 rows x 7 columns]"
            ]
          },
          "metadata": {},
          "execution_count": 11
        }
      ]
    },
    {
      "cell_type": "code",
      "source": [
        "iris.info()"
      ],
      "metadata": {
        "colab": {
          "base_uri": "https://localhost:8080/"
        },
        "id": "kr1MvlgJxQnM",
        "outputId": "9461b539-06e6-4899-854b-c0ab5bb5cd38"
      },
      "execution_count": null,
      "outputs": [
        {
          "output_type": "stream",
          "name": "stdout",
          "text": [
            "<class 'pandas.core.frame.DataFrame'>\n",
            "RangeIndex: 120 entries, 0 to 119\n",
            "Data columns (total 7 columns):\n",
            " #   Column         Non-Null Count  Dtype  \n",
            "---  ------         --------------  -----  \n",
            " 0   septal_length  120 non-null    float64\n",
            " 1   septal_width   120 non-null    float64\n",
            " 2   petal_length   120 non-null    float64\n",
            " 3   petal_width    120 non-null    float64\n",
            " 4   setosa         120 non-null    int64  \n",
            " 5   versicolor     120 non-null    int64  \n",
            " 6   virginica      120 non-null    int64  \n",
            "dtypes: float64(4), int64(3)\n",
            "memory usage: 6.7 KB\n"
          ]
        }
      ]
    },
    {
      "cell_type": "code",
      "source": [
        "data = iris.to_numpy() #넘파이 배열로 바꾸기\n",
        "print(data.shape) #7가지의 값을 가지는 120개 데이터\n",
        "print(data[:5])"
      ],
      "metadata": {
        "colab": {
          "base_uri": "https://localhost:8080/"
        },
        "id": "1xvzwyr7yBsb",
        "outputId": "e1441090-0d58-4ae4-ea2b-e24f7259e081"
      },
      "execution_count": null,
      "outputs": [
        {
          "output_type": "stream",
          "name": "stdout",
          "text": [
            "(120, 7)\n",
            "[[6.4 2.8 5.6 2.2 0.  0.  1. ]\n",
            " [5.  2.3 3.3 1.  0.  1.  0. ]\n",
            " [4.9 2.5 4.5 1.7 0.  0.  1. ]\n",
            " [4.9 3.1 1.5 0.1 1.  0.  0. ]\n",
            " [5.7 3.8 1.7 0.3 1.  0.  0. ]]\n"
          ]
        }
      ]
    },
    {
      "cell_type": "code",
      "source": [
        "x = data[:,:4]\n",
        "y = data[:,4:]\n",
        "\n",
        "split_index = 100\n",
        "\n",
        "train_x, test_x = x[:split_index], x[split_index:]\n",
        "train_y, test_y = y[:split_index], y[split_index:]"
      ],
      "metadata": {
        "id": "gCRb4iUyyEEC"
      },
      "execution_count": null,
      "outputs": []
    },
    {
      "cell_type": "code",
      "source": [
        "model = keras.Sequential()\n",
        "model.add(Input(4)) # 독립변수 4개\n",
        "model.add(Dense(10, activation='tanh'))\n",
        "model.add(Dense(10, activation='tanh'))\n",
        "model.add(Dense(3, activation='softmax')) # 종속변수(종의 개수) 3개\n",
        "# 'softmax' : ??"
      ],
      "metadata": {
        "id": "jvwpybBQyVjL"
      },
      "execution_count": null,
      "outputs": []
    },
    {
      "cell_type": "code",
      "source": [
        "# softmax 함수는 로지스틱 회귀에서 변수가 3개 이상일 경우를 위한 함수\n",
        "# 즉 n개의 분류 중 각각의 확률 중 가장 높은 확률을 가진 분류를 채택\n",
        "# 원-핫 벡터로 수치화를 하여 분류의 정답을 도출\n",
        "# 1-(가장 확률이 높은 분휴) -> 오차의 개념"
      ],
      "metadata": {
        "id": "6MHSjiL9mBfM"
      },
      "execution_count": null,
      "outputs": []
    },
    {
      "cell_type": "code",
      "source": [
        "# 더 나아가 오차로 부터 가중치와 편향을 업데이트 한다.\n",
        "# "
      ],
      "metadata": {
        "id": "D8ZDdEz3mwIC"
      },
      "execution_count": null,
      "outputs": []
    },
    {
      "cell_type": "code",
      "source": [
        "model.compile(optimizer='adam', loss='categorical_crossentropy', metrics=['accuracy'])\n",
        "# loss='categorical_crossentropy' : categorical->분류 "
      ],
      "metadata": {
        "id": "R0Tff0HQy_QC"
      },
      "execution_count": null,
      "outputs": []
    },
    {
      "cell_type": "code",
      "source": [
        "for i in range(1000):\n",
        "  \n",
        "  y_predict=...\n",
        "  count=...\n",
        "  correct =...\n",
        "  acc = correct/ count\n",
        "\n",
        "텐서플러우에서는 이렇게 힘들게 해야하는데\n",
        "케라스는 loss='categorical_crossentropy' 간단하게 해준다"
      ],
      "metadata": {
        "id": "sSp_mvEuzX8K"
      },
      "execution_count": null,
      "outputs": []
    },
    {
      "cell_type": "code",
      "source": [
        "model.fit(train_x, train_y, epochs=200, verbose=0)\n"
      ],
      "metadata": {
        "colab": {
          "base_uri": "https://localhost:8080/"
        },
        "id": "mRGoeqBL0tow",
        "outputId": "e7b24189-5244-47b9-a8c3-a043a11c577a"
      },
      "execution_count": null,
      "outputs": [
        {
          "output_type": "execute_result",
          "data": {
            "text/plain": [
              "<keras.callbacks.History at 0x7fe6aa01bfd0>"
            ]
          },
          "metadata": {},
          "execution_count": 18
        }
      ]
    },
    {
      "cell_type": "code",
      "source": [
        "loss, acc = model.evaluate(test_x, test_y)\n",
        "\n",
        "print(\"loss :\", loss)\n",
        "print(\"acc :\", acc)"
      ],
      "metadata": {
        "colab": {
          "base_uri": "https://localhost:8080/"
        },
        "id": "btsYq5Ep0vLg",
        "outputId": "1d665900-2fa0-482f-88c0-24ffbe5bfe4c"
      },
      "execution_count": null,
      "outputs": [
        {
          "output_type": "stream",
          "name": "stdout",
          "text": [
            "1/1 [==============================] - 0s 182ms/step - loss: 0.0988 - accuracy: 1.0000\n",
            "loss : 0.09879903495311737\n",
            "acc : 1.0\n"
          ]
        }
      ]
    },
    {
      "cell_type": "code",
      "source": [
        "y_ = model.predict(test_x)\n",
        "print(y_)\n",
        "print(np.argmax(y_, axis=1))\n",
        "# np.argmax() : 최대값 배열 위치를 알려주는 함수"
      ],
      "metadata": {
        "colab": {
          "base_uri": "https://localhost:8080/"
        },
        "id": "xyKR6P950xfZ",
        "outputId": "1c95cb04-59bb-4e52-a398-59492a50edff"
      },
      "execution_count": null,
      "outputs": [
        {
          "output_type": "stream",
          "name": "stdout",
          "text": [
            "[[0.96531594 0.03251324 0.00217091]\n",
            " [0.07789979 0.8708461  0.0512541 ]\n",
            " [0.9591722  0.03815786 0.00267005]\n",
            " [0.03363242 0.8952716  0.07109605]\n",
            " [0.9619597  0.03586155 0.00217873]\n",
            " [0.96797335 0.03002704 0.00199966]\n",
            " [0.96761024 0.03041904 0.0019707 ]\n",
            " [0.96755826 0.03046202 0.00197968]\n",
            " [0.1165614  0.832377   0.05106156]\n",
            " [0.9593402  0.03830615 0.00235371]\n",
            " [0.0101776  0.28478456 0.70503783]\n",
            " [0.04078711 0.8360755  0.12313743]\n",
            " [0.96048456 0.03716614 0.00234927]\n",
            " [0.00220787 0.06213378 0.9356583 ]\n",
            " [0.9600361  0.0377672  0.00219682]\n",
            " [0.01835507 0.75550234 0.22614251]\n",
            " [0.0358115  0.881695   0.08249358]\n",
            " [0.9606577  0.03699302 0.00234927]\n",
            " [0.9647777  0.03303399 0.00218833]\n",
            " [0.04989373 0.8785903  0.07151596]]\n",
            "[0 1 0 1 0 0 0 0 1 0 2 1 0 2 0 1 1 0 0 1]\n"
          ]
        }
      ]
    },
    {
      "cell_type": "markdown",
      "source": [
        "# loss categorical_crossentropy\n",
        "2가지 crossentropy 사용 방법\n",
        "\n",
        "-categorical_crossentropy \\\n",
        "(위의 softmax가 Last-layer activation, one-hot vector을 이용한 label 필요) \\\n",
        "-sparse_categorical_crossentropy"
      ],
      "metadata": {
        "id": "CYAsxJK16RM8"
      }
    },
    {
      "cell_type": "markdown",
      "source": [
        "https://cheris8.github.io/artificial%20intelligence/DL-Keras-Loss-Function/ "
      ],
      "metadata": {
        "id": "3KZMz0bN6bRY"
      }
    },
    {
      "cell_type": "code",
      "source": [
        "# 붓꽃데이터가 분류 분석이므로\n",
        "# loss function 을 분류에 맞는 손실함류를 사용\n",
        "loss :\n",
        "categorical_crossentropy (label : one-hot)\n",
        "sparse_categorical_crossentropy (label : int형태)\n",
        "# binary crossentropy : 2진 부류니까 이것도 예외인 것 알지?"
      ],
      "metadata": {
        "id": "9PmwlQHu572A"
      },
      "execution_count": null,
      "outputs": []
    },
    {
      "cell_type": "markdown",
      "source": [
        "# iris_dnn with category index\n",
        "아래의 코드는 dnn_iris_and_optimizer.ipynb의 코드를 기반으로 한다.\n",
        "\n"
      ],
      "metadata": {
        "id": "vHx0Sf8M6eMJ"
      }
    },
    {
      "cell_type": "code",
      "source": [
        "!wget https://raw.githubusercontent.com/dhrim/MDC_2021/master/material/deep_learning/iris_with_category_index.csv\n"
      ],
      "metadata": {
        "colab": {
          "base_uri": "https://localhost:8080/"
        },
        "id": "fgyEPunY6gKo",
        "outputId": "0db7b912-fb96-4256-c236-fbe9ec07790d"
      },
      "execution_count": null,
      "outputs": [
        {
          "output_type": "stream",
          "name": "stdout",
          "text": [
            "--2021-12-22 02:13:27--  https://raw.githubusercontent.com/dhrim/MDC_2021/master/material/deep_learning/iris_with_category_index.csv\n",
            "Resolving raw.githubusercontent.com (raw.githubusercontent.com)... 185.199.108.133, 185.199.109.133, 185.199.110.133, ...\n",
            "Connecting to raw.githubusercontent.com (raw.githubusercontent.com)|185.199.108.133|:443... connected.\n",
            "HTTP request sent, awaiting response... 200 OK\n",
            "Length: 2218 (2.2K) [text/plain]\n",
            "Saving to: ‘iris_with_category_index.csv’\n",
            "\n",
            "\r          iris_with   0%[                    ]       0  --.-KB/s               \riris_with_category_ 100%[===================>]   2.17K  --.-KB/s    in 0s      \n",
            "\n",
            "2021-12-22 02:13:27 (33.8 MB/s) - ‘iris_with_category_index.csv’ saved [2218/2218]\n",
            "\n"
          ]
        }
      ]
    },
    {
      "cell_type": "code",
      "source": [
        "!ls -al\n",
        "!head iris_with_category_index.csv"
      ],
      "metadata": {
        "colab": {
          "base_uri": "https://localhost:8080/"
        },
        "id": "TLV9oD0E6jSx",
        "outputId": "d4a77e06-d9df-4b6d-e269-fb09c7ee5114"
      },
      "execution_count": null,
      "outputs": [
        {
          "output_type": "stream",
          "name": "stdout",
          "text": [
            "total 24\n",
            "drwxr-xr-x 1 root root 4096 Dec 22 02:13 .\n",
            "drwxr-xr-x 1 root root 4096 Dec 22 01:25 ..\n",
            "drwxr-xr-x 4 root root 4096 Dec  3 14:33 .config\n",
            "-rw-r--r-- 1 root root 2720 Dec 22 01:31 iris.csv\n",
            "-rw-r--r-- 1 root root 2218 Dec 22 02:13 iris_with_category_index.csv\n",
            "drwxr-xr-x 1 root root 4096 Dec  3 14:33 sample_data\n",
            "septal_length,septal_width,petal_length,petal_width,class\n",
            "6.4,2.8,5.6,2.2,2\n",
            "5.0,2.3,3.3,1.0,1\n",
            "4.9,2.5,4.5,1.7,2\n",
            "4.9,3.1,1.5,0.1,0\n",
            "5.7,3.8,1.7,0.3,0\n",
            "4.4,3.2,1.3,0.2,0\n",
            "5.4,3.4,1.5,0.4,0\n",
            "6.9,3.1,5.1,2.3,2\n",
            "6.7,3.1,4.4,1.4,1\n"
          ]
        }
      ]
    },
    {
      "cell_type": "code",
      "source": [
        "iris = pd.read_csv(\"iris_with_category_index.csv\")\n",
        "iris.head()"
      ],
      "metadata": {
        "colab": {
          "base_uri": "https://localhost:8080/",
          "height": 206
        },
        "id": "ohIb3XXz6l8h",
        "outputId": "d7178d4f-a0ae-4b20-d96b-862cd56cfc68"
      },
      "execution_count": null,
      "outputs": [
        {
          "output_type": "execute_result",
          "data": {
            "text/html": [
              "\n",
              "  <div id=\"df-7440c976-74df-471b-bc8b-b25b598d4964\">\n",
              "    <div class=\"colab-df-container\">\n",
              "      <div>\n",
              "<style scoped>\n",
              "    .dataframe tbody tr th:only-of-type {\n",
              "        vertical-align: middle;\n",
              "    }\n",
              "\n",
              "    .dataframe tbody tr th {\n",
              "        vertical-align: top;\n",
              "    }\n",
              "\n",
              "    .dataframe thead th {\n",
              "        text-align: right;\n",
              "    }\n",
              "</style>\n",
              "<table border=\"1\" class=\"dataframe\">\n",
              "  <thead>\n",
              "    <tr style=\"text-align: right;\">\n",
              "      <th></th>\n",
              "      <th>septal_length</th>\n",
              "      <th>septal_width</th>\n",
              "      <th>petal_length</th>\n",
              "      <th>petal_width</th>\n",
              "      <th>class</th>\n",
              "    </tr>\n",
              "  </thead>\n",
              "  <tbody>\n",
              "    <tr>\n",
              "      <th>0</th>\n",
              "      <td>6.4</td>\n",
              "      <td>2.8</td>\n",
              "      <td>5.6</td>\n",
              "      <td>2.2</td>\n",
              "      <td>2</td>\n",
              "    </tr>\n",
              "    <tr>\n",
              "      <th>1</th>\n",
              "      <td>5.0</td>\n",
              "      <td>2.3</td>\n",
              "      <td>3.3</td>\n",
              "      <td>1.0</td>\n",
              "      <td>1</td>\n",
              "    </tr>\n",
              "    <tr>\n",
              "      <th>2</th>\n",
              "      <td>4.9</td>\n",
              "      <td>2.5</td>\n",
              "      <td>4.5</td>\n",
              "      <td>1.7</td>\n",
              "      <td>2</td>\n",
              "    </tr>\n",
              "    <tr>\n",
              "      <th>3</th>\n",
              "      <td>4.9</td>\n",
              "      <td>3.1</td>\n",
              "      <td>1.5</td>\n",
              "      <td>0.1</td>\n",
              "      <td>0</td>\n",
              "    </tr>\n",
              "    <tr>\n",
              "      <th>4</th>\n",
              "      <td>5.7</td>\n",
              "      <td>3.8</td>\n",
              "      <td>1.7</td>\n",
              "      <td>0.3</td>\n",
              "      <td>0</td>\n",
              "    </tr>\n",
              "  </tbody>\n",
              "</table>\n",
              "</div>\n",
              "      <button class=\"colab-df-convert\" onclick=\"convertToInteractive('df-7440c976-74df-471b-bc8b-b25b598d4964')\"\n",
              "              title=\"Convert this dataframe to an interactive table.\"\n",
              "              style=\"display:none;\">\n",
              "        \n",
              "  <svg xmlns=\"http://www.w3.org/2000/svg\" height=\"24px\"viewBox=\"0 0 24 24\"\n",
              "       width=\"24px\">\n",
              "    <path d=\"M0 0h24v24H0V0z\" fill=\"none\"/>\n",
              "    <path d=\"M18.56 5.44l.94 2.06.94-2.06 2.06-.94-2.06-.94-.94-2.06-.94 2.06-2.06.94zm-11 1L8.5 8.5l.94-2.06 2.06-.94-2.06-.94L8.5 2.5l-.94 2.06-2.06.94zm10 10l.94 2.06.94-2.06 2.06-.94-2.06-.94-.94-2.06-.94 2.06-2.06.94z\"/><path d=\"M17.41 7.96l-1.37-1.37c-.4-.4-.92-.59-1.43-.59-.52 0-1.04.2-1.43.59L10.3 9.45l-7.72 7.72c-.78.78-.78 2.05 0 2.83L4 21.41c.39.39.9.59 1.41.59.51 0 1.02-.2 1.41-.59l7.78-7.78 2.81-2.81c.8-.78.8-2.07 0-2.86zM5.41 20L4 18.59l7.72-7.72 1.47 1.35L5.41 20z\"/>\n",
              "  </svg>\n",
              "      </button>\n",
              "      \n",
              "  <style>\n",
              "    .colab-df-container {\n",
              "      display:flex;\n",
              "      flex-wrap:wrap;\n",
              "      gap: 12px;\n",
              "    }\n",
              "\n",
              "    .colab-df-convert {\n",
              "      background-color: #E8F0FE;\n",
              "      border: none;\n",
              "      border-radius: 50%;\n",
              "      cursor: pointer;\n",
              "      display: none;\n",
              "      fill: #1967D2;\n",
              "      height: 32px;\n",
              "      padding: 0 0 0 0;\n",
              "      width: 32px;\n",
              "    }\n",
              "\n",
              "    .colab-df-convert:hover {\n",
              "      background-color: #E2EBFA;\n",
              "      box-shadow: 0px 1px 2px rgba(60, 64, 67, 0.3), 0px 1px 3px 1px rgba(60, 64, 67, 0.15);\n",
              "      fill: #174EA6;\n",
              "    }\n",
              "\n",
              "    [theme=dark] .colab-df-convert {\n",
              "      background-color: #3B4455;\n",
              "      fill: #D2E3FC;\n",
              "    }\n",
              "\n",
              "    [theme=dark] .colab-df-convert:hover {\n",
              "      background-color: #434B5C;\n",
              "      box-shadow: 0px 1px 3px 1px rgba(0, 0, 0, 0.15);\n",
              "      filter: drop-shadow(0px 1px 2px rgba(0, 0, 0, 0.3));\n",
              "      fill: #FFFFFF;\n",
              "    }\n",
              "  </style>\n",
              "\n",
              "      <script>\n",
              "        const buttonEl =\n",
              "          document.querySelector('#df-7440c976-74df-471b-bc8b-b25b598d4964 button.colab-df-convert');\n",
              "        buttonEl.style.display =\n",
              "          google.colab.kernel.accessAllowed ? 'block' : 'none';\n",
              "\n",
              "        async function convertToInteractive(key) {\n",
              "          const element = document.querySelector('#df-7440c976-74df-471b-bc8b-b25b598d4964');\n",
              "          const dataTable =\n",
              "            await google.colab.kernel.invokeFunction('convertToInteractive',\n",
              "                                                     [key], {});\n",
              "          if (!dataTable) return;\n",
              "\n",
              "          const docLinkHtml = 'Like what you see? Visit the ' +\n",
              "            '<a target=\"_blank\" href=https://colab.research.google.com/notebooks/data_table.ipynb>data table notebook</a>'\n",
              "            + ' to learn more about interactive tables.';\n",
              "          element.innerHTML = '';\n",
              "          dataTable['output_type'] = 'display_data';\n",
              "          await google.colab.output.renderOutput(dataTable, element);\n",
              "          const docLink = document.createElement('div');\n",
              "          docLink.innerHTML = docLinkHtml;\n",
              "          element.appendChild(docLink);\n",
              "        }\n",
              "      </script>\n",
              "    </div>\n",
              "  </div>\n",
              "  "
            ],
            "text/plain": [
              "   septal_length  septal_width  petal_length  petal_width  class\n",
              "0            6.4           2.8           5.6          2.2      2\n",
              "1            5.0           2.3           3.3          1.0      1\n",
              "2            4.9           2.5           4.5          1.7      2\n",
              "3            4.9           3.1           1.5          0.1      0\n",
              "4            5.7           3.8           1.7          0.3      0"
            ]
          },
          "metadata": {},
          "execution_count": 24
        }
      ]
    },
    {
      "cell_type": "code",
      "source": [
        "data = iris.to_numpy()\n",
        "print(data.shape)\n",
        "print(data[:5])"
      ],
      "metadata": {
        "colab": {
          "base_uri": "https://localhost:8080/"
        },
        "id": "u3wGa_Hb6uXG",
        "outputId": "a54f583f-5e68-4ffe-ba01-5c8888c37eda"
      },
      "execution_count": null,
      "outputs": [
        {
          "output_type": "stream",
          "name": "stdout",
          "text": [
            "(120, 5)\n",
            "[[6.4 2.8 5.6 2.2 2. ]\n",
            " [5.  2.3 3.3 1.  1. ]\n",
            " [4.9 2.5 4.5 1.7 2. ]\n",
            " [4.9 3.1 1.5 0.1 0. ]\n",
            " [5.7 3.8 1.7 0.3 0. ]]\n"
          ]
        }
      ]
    },
    {
      "cell_type": "code",
      "source": [
        "x = data[:,:4]\n",
        "y = data[:,4:]\n",
        "\n",
        "split_index = 100\n",
        "\n",
        "train_x, test_x = x[:split_index], x[split_index:]\n",
        "train_y, test_y = y[:split_index], y[split_index:]\n",
        "\n",
        "print(train_x.shape)\n",
        "print(train_y.shape)\n",
        "print(test_x.shape)\n",
        "print(test_y.shape)"
      ],
      "metadata": {
        "colab": {
          "base_uri": "https://localhost:8080/"
        },
        "id": "ytyfhyYs6vsW",
        "outputId": "3f25518c-ec00-4bf3-84f5-13de9b9aa2f4"
      },
      "execution_count": null,
      "outputs": [
        {
          "output_type": "stream",
          "name": "stdout",
          "text": [
            "(100, 4)\n",
            "(100, 1)\n",
            "(20, 4)\n",
            "(20, 1)\n"
          ]
        }
      ]
    },
    {
      "cell_type": "code",
      "source": [
        "model = keras.Sequential()\n",
        "model.add(Input(4))\n",
        "model.add(Dense(10, activation='tanh'))\n",
        "model.add(Dense(10, activation='tanh'))\n",
        "model.add(Dense(3, activation='softmax')) # 1이 아니고 클래스 수 3이다\n",
        "\n",
        "# model.compile(optimizer=\"SGD\", loss=\"categorical_crossentropy\", metrics=[\"accuracy\"])\n",
        "model.compile(optimizer=\"SGD\", loss=\"sparse_categorical_crossentropy\", metrics=[\"accuracy\"])\n",
        "model.summary()\n",
        "\n",
        "model.fit(train_x, train_y, epochs=1000, verbose=0, batch_size=20)\n",
        "\n",
        "loss, acc = model.evaluate(test_x, test_y)\n",
        "print(\"loss=\", loss)\n",
        "print(\"acc=\", acc)\n",
        "\n",
        "# 분류 : (sparse_)categorical_crossentropy\n",
        "# 회귀 : mse\n",
        "# 거의 이렇게만 사용한다고 하신다.            \n",
        "# 워낙에 kerase가 인코딩을 잘해준다고 하신다.\n",
        "\n",
        "# loss : 손실함수, 훈련셋과 연관\n",
        "# metric : 평가지표, 검증셋과 연관"
      ],
      "metadata": {
        "colab": {
          "base_uri": "https://localhost:8080/"
        },
        "id": "ed55N7PA6xHv",
        "outputId": "b22c3177-679c-469f-ea9c-6b2aa76a506b"
      },
      "execution_count": null,
      "outputs": [
        {
          "output_type": "stream",
          "name": "stdout",
          "text": [
            "Model: \"sequential_3\"\n",
            "_________________________________________________________________\n",
            " Layer (type)                Output Shape              Param #   \n",
            "=================================================================\n",
            " dense_9 (Dense)             (None, 10)                50        \n",
            "                                                                 \n",
            " dense_10 (Dense)            (None, 10)                110       \n",
            "                                                                 \n",
            " dense_11 (Dense)            (None, 3)                 33        \n",
            "                                                                 \n",
            "=================================================================\n",
            "Total params: 193\n",
            "Trainable params: 193\n",
            "Non-trainable params: 0\n",
            "_________________________________________________________________\n",
            "1/1 [==============================] - 0s 94ms/step - loss: 0.0305 - accuracy: 1.0000\n",
            "loss= 0.03049142099916935\n",
            "acc= 1.0\n"
          ]
        }
      ]
    },
    {
      "cell_type": "code",
      "source": [
        "y_ = model.predict(test_x)\n",
        "print(y_)\n",
        "print(np.argmax(y_, axis=1))"
      ],
      "metadata": {
        "colab": {
          "base_uri": "https://localhost:8080/"
        },
        "id": "CllvYJho6yve",
        "outputId": "c73db252-2242-49bc-a166-efbf5d8bd629"
      },
      "execution_count": null,
      "outputs": [
        {
          "output_type": "stream",
          "name": "stdout",
          "text": [
            "[[9.9203253e-01 7.6755434e-03 2.9194963e-04]\n",
            " [9.8377643e-03 9.8746443e-01 2.6978336e-03]\n",
            " [9.7398776e-01 2.5538955e-02 4.7321111e-04]\n",
            " [4.7993977e-03 9.9236792e-01 2.8327317e-03]\n",
            " [9.9288613e-01 6.8328590e-03 2.8102181e-04]\n",
            " [9.9419457e-01 5.5444362e-03 2.6099407e-04]\n",
            " [9.9485481e-01 4.8942696e-03 2.5089458e-04]\n",
            " [9.9492419e-01 4.8238332e-03 2.5186958e-04]\n",
            " [1.4228750e-02 9.8351181e-01 2.2595306e-03]\n",
            " [9.9173111e-01 7.9717245e-03 2.9723640e-04]\n",
            " [8.7539240e-04 2.5810978e-01 7.4101484e-01]\n",
            " [3.7903416e-03 9.8993170e-01 6.2779309e-03]\n",
            " [9.9008280e-01 9.6023995e-03 3.1479678e-04]\n",
            " [3.6973279e-04 8.2272589e-02 9.1735762e-01]\n",
            " [9.9265105e-01 7.0634736e-03 2.8557758e-04]\n",
            " [2.4543134e-03 9.4067127e-01 5.6874409e-02]\n",
            " [4.9037738e-03 9.9120235e-01 3.8938539e-03]\n",
            " [9.9187404e-01 7.8258216e-03 3.0012132e-04]\n",
            " [9.9273139e-01 6.9851931e-03 2.8348327e-04]\n",
            " [5.3254352e-03 9.9188179e-01 2.7927393e-03]]\n",
            "[0 1 0 1 0 0 0 0 1 0 2 1 0 2 0 1 1 0 0 1]\n"
          ]
        }
      ]
    },
    {
      "cell_type": "markdown",
      "source": [
        "https://bskyvision.com/741\n",
        "피어슨 상관계수를 모겡릐 손실함수 또는 평가지표로 사용하려며"
      ],
      "metadata": {
        "id": "R5weItLFqWCU"
      }
    }
  ],
  "metadata": {
    "accelerator": "GPU",
    "colab": {
      "name": "211222_DNN_기초2(복습&붓꽃데이터).ipynb",
      "provenance": [],
      "collapsed_sections": []
    },
    "kernelspec": {
      "display_name": "Python 3",
      "name": "python3"
    },
    "language_info": {
      "name": "python"
    }
  },
  "nbformat": 4,
  "nbformat_minor": 0
}