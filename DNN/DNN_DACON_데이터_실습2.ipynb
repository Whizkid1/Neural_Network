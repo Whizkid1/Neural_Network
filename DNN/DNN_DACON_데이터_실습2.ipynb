{
  "nbformat": 4,
  "nbformat_minor": 0,
  "metadata": {
    "colab": {
      "name": "211222_실습3(DACON 데이터 실습2).ipynb",
      "provenance": [],
      "collapsed_sections": []
    },
    "kernelspec": {
      "name": "python3",
      "display_name": "Python 3"
    },
    "language_info": {
      "name": "python"
    }
  },
  "cells": [
    {
      "cell_type": "markdown",
      "source": [
        "영화 데이터 train과 test를 함께 label과 전처리 부터 다시해보자!"
      ],
      "metadata": {
        "id": "DoGtTeK2tMrh"
      }
    },
    {
      "cell_type": "code",
      "execution_count": null,
      "metadata": {
        "id": "xq0sDazoEhFR"
      },
      "outputs": [],
      "source": [
        "import numpy as np\n",
        "import pandas as pd\n",
        "import matplotlib.pyplot as plt\n",
        "\n",
        "import tensorflow as tf\n",
        "\n",
        "from tensorflow import keras\n",
        "from tensorflow.keras import optimizers\n",
        "from tensorflow.keras.layers import Dense, Input"
      ]
    },
    {
      "cell_type": "code",
      "source": [
        "train= pd.read_csv('movies_train.csv')\n",
        "train.info()"
      ],
      "metadata": {
        "colab": {
          "base_uri": "https://localhost:8080/"
        },
        "id": "7BMDl0O4Eoyf",
        "outputId": "4f37db04-6854-4022-b5df-d78ad2649ad8"
      },
      "execution_count": null,
      "outputs": [
        {
          "output_type": "stream",
          "name": "stdout",
          "text": [
            "<class 'pandas.core.frame.DataFrame'>\n",
            "RangeIndex: 600 entries, 0 to 599\n",
            "Data columns (total 12 columns):\n",
            " #   Column          Non-Null Count  Dtype  \n",
            "---  ------          --------------  -----  \n",
            " 0   title           600 non-null    object \n",
            " 1   distributor     600 non-null    object \n",
            " 2   genre           600 non-null    object \n",
            " 3   release_time    600 non-null    object \n",
            " 4   time            600 non-null    int64  \n",
            " 5   screening_rat   600 non-null    object \n",
            " 6   director        600 non-null    object \n",
            " 7   dir_prev_bfnum  270 non-null    float64\n",
            " 8   dir_prev_num    600 non-null    int64  \n",
            " 9   num_staff       600 non-null    int64  \n",
            " 10  num_actor       600 non-null    int64  \n",
            " 11  box_off_num     600 non-null    int64  \n",
            "dtypes: float64(1), int64(5), object(6)\n",
            "memory usage: 56.4+ KB\n"
          ]
        }
      ]
    },
    {
      "cell_type": "code",
      "source": [
        "test = pd.read_csv('movies_test.csv')"
      ],
      "metadata": {
        "id": "3X7BQd1PEuFe"
      },
      "execution_count": null,
      "outputs": []
    },
    {
      "cell_type": "code",
      "source": [
        "test['box_off_num'] = 0"
      ],
      "metadata": {
        "id": "6Lat0CN8FaPu"
      },
      "execution_count": null,
      "outputs": []
    },
    {
      "cell_type": "markdown",
      "source": [
        "train : 600개 \\\n",
        "test : 243개"
      ],
      "metadata": {
        "id": "3iRR-kEnFFCS"
      }
    },
    {
      "cell_type": "code",
      "source": [
        "# train + test\n",
        "df= pd.concat([train, test], axis=0)\n",
        "df.info()"
      ],
      "metadata": {
        "colab": {
          "base_uri": "https://localhost:8080/"
        },
        "id": "qk8vQvJmE-Hd",
        "outputId": "07c945fb-a265-4a99-e4f8-cb78b77fd88a"
      },
      "execution_count": null,
      "outputs": [
        {
          "output_type": "stream",
          "name": "stdout",
          "text": [
            "<class 'pandas.core.frame.DataFrame'>\n",
            "Int64Index: 843 entries, 0 to 242\n",
            "Data columns (total 12 columns):\n",
            " #   Column          Non-Null Count  Dtype  \n",
            "---  ------          --------------  -----  \n",
            " 0   title           843 non-null    object \n",
            " 1   distributor     843 non-null    object \n",
            " 2   genre           843 non-null    object \n",
            " 3   release_time    843 non-null    object \n",
            " 4   time            843 non-null    int64  \n",
            " 5   screening_rat   843 non-null    object \n",
            " 6   director        843 non-null    object \n",
            " 7   dir_prev_bfnum  377 non-null    float64\n",
            " 8   dir_prev_num    843 non-null    int64  \n",
            " 9   num_staff       843 non-null    int64  \n",
            " 10  num_actor       843 non-null    int64  \n",
            " 11  box_off_num     843 non-null    int64  \n",
            "dtypes: float64(1), int64(5), object(6)\n",
            "memory usage: 85.6+ KB\n"
          ]
        }
      ]
    },
    {
      "cell_type": "code",
      "source": [
        "# 결측치 처리\n",
        "df.fillna(0, inplace=True)\n",
        "df.isnull().sum()"
      ],
      "metadata": {
        "colab": {
          "base_uri": "https://localhost:8080/"
        },
        "id": "7xL5vMrIFVnV",
        "outputId": "fcbada02-fc01-416b-8790-8779f0c6eeb6"
      },
      "execution_count": null,
      "outputs": [
        {
          "output_type": "execute_result",
          "data": {
            "text/plain": [
              "title             0\n",
              "distributor       0\n",
              "genre             0\n",
              "release_time      0\n",
              "time              0\n",
              "screening_rat     0\n",
              "director          0\n",
              "dir_prev_bfnum    0\n",
              "dir_prev_num      0\n",
              "num_staff         0\n",
              "num_actor         0\n",
              "box_off_num       0\n",
              "dtype: int64"
            ]
          },
          "metadata": {},
          "execution_count": 70
        }
      ]
    },
    {
      "cell_type": "code",
      "source": [
        "# 필요없다고 생각한 변수 제거\n",
        "df.drop(columns=[\"title\", \"time\", \"release_time\", \"director\"], inplace = True)\n",
        "df.info()"
      ],
      "metadata": {
        "colab": {
          "base_uri": "https://localhost:8080/"
        },
        "id": "wT0XaGF1F47d",
        "outputId": "b1af150b-94d0-4c64-c067-bad27ebf27bc"
      },
      "execution_count": null,
      "outputs": [
        {
          "output_type": "stream",
          "name": "stdout",
          "text": [
            "<class 'pandas.core.frame.DataFrame'>\n",
            "Int64Index: 843 entries, 0 to 242\n",
            "Data columns (total 8 columns):\n",
            " #   Column          Non-Null Count  Dtype  \n",
            "---  ------          --------------  -----  \n",
            " 0   distributor     843 non-null    object \n",
            " 1   genre           843 non-null    object \n",
            " 2   screening_rat   843 non-null    object \n",
            " 3   dir_prev_bfnum  843 non-null    float64\n",
            " 4   dir_prev_num    843 non-null    int64  \n",
            " 5   num_staff       843 non-null    int64  \n",
            " 6   num_actor       843 non-null    int64  \n",
            " 7   box_off_num     843 non-null    int64  \n",
            "dtypes: float64(1), int64(4), object(3)\n",
            "memory usage: 59.3+ KB\n"
          ]
        }
      ]
    },
    {
      "cell_type": "code",
      "source": [
        "# label\n",
        "df.distributor = df.distributor.astype('category')\n",
        "df['distributtor_code'] = df.distributor.cat.codes\n",
        "\n",
        "df.genre = df.genre.astype('category')\n",
        "df['genre_code'] = df.genre.cat.codes\n",
        "\n",
        "df.screening_rat = df.screening_rat.astype(\"category\")\n",
        "df['screening_rat_code'] = df.screening_rat.cat.codes"
      ],
      "metadata": {
        "id": "2UaoiocuGD9k"
      },
      "execution_count": null,
      "outputs": []
    },
    {
      "cell_type": "code",
      "source": [
        "# \n",
        "df['dir_prev_bfnum_log'] = np.log1p(df.dir_prev_bfnum)\n",
        "df['num_staff_log'] = np.log1p(df.num_staff)\n",
        "df['box_off_num_log'] = np.log1p(df.box_off_num)"
      ],
      "metadata": {
        "id": "r5qTRYtrGHqU"
      },
      "execution_count": null,
      "outputs": []
    },
    {
      "cell_type": "code",
      "source": [
        "# 코드 column 생성\n",
        "df =pd.get_dummies(df, columns=['genre_code'])\n",
        "df= pd.get_dummies(df, columns=['distributtor_code'])\n",
        "df= pd.get_dummies(df, columns=['screening_rat_code'])"
      ],
      "metadata": {
        "id": "VsxyYfJIHp-l"
      },
      "execution_count": null,
      "outputs": []
    },
    {
      "cell_type": "code",
      "source": [
        "# 다시 DF 전처리\n",
        "df = df.drop(columns=['distributor',\n",
        "                      'genre',\n",
        "                      'screening_rat',\n",
        "                      'dir_prev_bfnum',\n",
        "                      'num_staff']  )"
      ],
      "metadata": {
        "id": "D5yHs-7wGLJT"
      },
      "execution_count": null,
      "outputs": []
    },
    {
      "cell_type": "code",
      "source": [
        "# 합쳤던 데이터 셋을 다시 나누기\n",
        "dy = np.array(df.box_off_num_log)[:600]\n",
        "\n",
        "x = df.drop(columns=['box_off_num_log', 'box_off_num'])\n",
        "dx = np.array(x)[:600]\n",
        "real_test_x = np.array(x)[600:]\n"
      ],
      "metadata": {
        "id": "_M4wUTfqGYoE"
      },
      "execution_count": null,
      "outputs": []
    },
    {
      "cell_type": "code",
      "source": [
        "from sklearn.model_selection import train_test_split\n",
        "\n",
        "train_x, test_x, train_y, test_y = train_test_split(dx, dy, test_size=0.2, random_state=42)\n"
      ],
      "metadata": {
        "id": "1LAhT8O0KJKm"
      },
      "execution_count": null,
      "outputs": []
    },
    {
      "cell_type": "code",
      "source": [
        "import numpy as np\n",
        "import pandas as pd\n",
        "import matplotlib.pyplot as plt\n",
        "\n",
        "import tensorflow as tf\n",
        "\n",
        "from tensorflow import keras\n",
        "from tensorflow.keras import optimizers\n",
        "from tensorflow.keras.layers import Dense, Input"
      ],
      "metadata": {
        "id": "A_sLPzNXG9_d"
      },
      "execution_count": null,
      "outputs": []
    },
    {
      "cell_type": "code",
      "source": [
        "# RMSE \n",
        "from tensorflow.keras.metrics import RootMeanSquaredError"
      ],
      "metadata": {
        "id": "xXFg1RDNLIdC"
      },
      "execution_count": null,
      "outputs": []
    },
    {
      "cell_type": "code",
      "source": [
        "model = keras.Sequential()\n",
        "model.add(Dense(10, activation ='relu', input_shape=(x.shape[1],)))\n",
        "model.add(Dense(10, activation ='relu'))\n",
        "model.add(Dense(1))\n",
        "\n",
        "model.compile(optimizer=\"SGD\", loss=\"mse\", metrics=[\"mape\", RootMeanSquaredError()])\n",
        "model.summary()\n",
        "\n",
        "hist = model.fit(train_x, train_y, epochs=1000, verbose=0, batch_size=128, validation_split=0.1)\n",
        "\n",
        "plt.plot(hist.history['loss'])\n",
        "plt.plot(hist.history['val_loss'])\n",
        "plt.show()\n",
        "\n",
        "loss, mape, rmse = model.evaluate(test_x, test_y)\n",
        "print(\"loss= \", loss)\n",
        "print(\"mape= \", mape)\n",
        "print(\"rmse= \", rmse)\n",
        "\n",
        "y_ = model.predict(test_x)\n",
        "\n",
        "plt.scatter(test_y, y_)\n",
        "plt.show()"
      ],
      "metadata": {
        "colab": {
          "base_uri": "https://localhost:8080/",
          "height": 878
        },
        "id": "gTyUPj9IHd5k",
        "outputId": "7a2ff068-d759-47de-9faf-d2e1f0486017"
      },
      "execution_count": null,
      "outputs": [
        {
          "output_type": "stream",
          "name": "stdout",
          "text": [
            "Model: \"sequential_13\"\n",
            "_________________________________________________________________\n",
            " Layer (type)                Output Shape              Param #   \n",
            "=================================================================\n",
            " dense_36 (Dense)            (None, 10)                2250      \n",
            "                                                                 \n",
            " dense_37 (Dense)            (None, 10)                110       \n",
            "                                                                 \n",
            " dense_38 (Dense)            (None, 1)                 11        \n",
            "                                                                 \n",
            "=================================================================\n",
            "Total params: 2,371\n",
            "Trainable params: 2,371\n",
            "Non-trainable params: 0\n",
            "_________________________________________________________________\n"
          ]
        },
        {
          "output_type": "display_data",
          "data": {
            "image/png": "[encoded data removed]",
            "text/plain": [
              "<Figure size 432x288 with 1 Axes>"
            ]
          },
          "metadata": {
            "needs_background": "light"
          }
        },
        {
          "output_type": "stream",
          "name": "stdout",
          "text": [
            "4/4 [==============================] - 0s 4ms/step - loss: 4.5903 - mape: 24.6927 - root_mean_squared_error: 2.1425\n",
            "loss=  4.59030818939209\n",
            "mape=  24.692710876464844\n",
            "rmse=  2.142500400543213\n"
          ]
        },
        {
          "output_type": "display_data",
          "data": {
            "image/png": "[encoded data removed]",
            "text/plain": [
              "<Figure size 432x288 with 1 Axes>"
            ]
          },
          "metadata": {
            "needs_background": "light"
          }
        }
      ]
    },
    {
      "cell_type": "code",
      "source": [
        "loss, mape, rmse = model.evaluate(test_x, test_y)\n",
        "print(\"loss= \", loss)\n",
        "print(\"mape= \", mape)\n",
        "print(\"rmse= \", rmse)"
      ],
      "metadata": {
        "colab": {
          "base_uri": "https://localhost:8080/"
        },
        "id": "MVefotvnJfNc",
        "outputId": "9ed234d2-2cd6-4118-b3a8-a51da5efe175"
      },
      "execution_count": null,
      "outputs": [
        {
          "output_type": "stream",
          "name": "stdout",
          "text": [
            "4/4 [==============================] - 0s 5ms/step - loss: 4.5903 - mape: 24.6927 - root_mean_squared_error: 2.1425\n",
            "loss=  4.59030818939209\n",
            "mape=  24.692710876464844\n",
            "rmse=  2.142500400543213\n"
          ]
        }
      ]
    },
    {
      "cell_type": "code",
      "source": [
        "predicted = np.exp(y_)\n",
        "org_test_y = np.exp(test_y)\n",
        "\n",
        "rmse = RootMeanSquaredError()\n",
        "r = rmse(predicted, org_test_y)\n",
        "print(r)"
      ],
      "metadata": {
        "colab": {
          "base_uri": "https://localhost:8080/"
        },
        "id": "tFWkMI-_MZua",
        "outputId": "295f066e-15cf-4a40-c71d-a0113e13aa53"
      },
      "execution_count": null,
      "outputs": [
        {
          "output_type": "stream",
          "name": "stdout",
          "text": [
            "tf.Tensor(1304492.2, shape=(), dtype=float32)\n"
          ]
        }
      ]
    },
    {
      "cell_type": "markdown",
      "source": [
        "이렇게 했지만 거의 500등 \\\n",
        "1. 독립변수 설정을 다시 ?\n",
        "2. 앙상블을 사용해보거나 ?\n",
        "3. 데이터가 적으니 교차검증 도 해봐햐 하지 않을까?\n",
        "\n",
        "라는 "
      ],
      "metadata": {
        "id": "EZm4IO2CuGvv"
      }
    }
  ]
}